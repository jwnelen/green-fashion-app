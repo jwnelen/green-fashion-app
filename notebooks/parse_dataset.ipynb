{
 "cells": [
  {
   "cell_type": "code",
   "execution_count": 2,
   "id": "473108ee",
   "metadata": {},
   "outputs": [],
   "source": [
    "%load_ext autoreload\n",
    "%autoreload 2"
   ]
  },
  {
   "cell_type": "code",
   "execution_count": 3,
   "id": "4fe43b4c",
   "metadata": {},
   "outputs": [],
   "source": [
    "import sys \n",
    "import os"
   ]
  },
  {
   "cell_type": "code",
   "execution_count": 4,
   "id": "6c8a4650",
   "metadata": {},
   "outputs": [
    {
     "data": {
      "text/plain": [
       "'/Users/jeroen/Documents/Personal_Projects/green-fashion/artifacts/datasets'"
      ]
     },
     "execution_count": 4,
     "metadata": {},
     "output_type": "execute_result"
    }
   ],
   "source": [
    "output_path = os.path.join(\"..\", \"artifacts\", \"datasets\")\n",
    "output_path = os.path.abspath(output_path)\n",
    "output_path"
   ]
  },
  {
   "cell_type": "code",
   "execution_count": 5,
   "id": "7f77c757",
   "metadata": {},
   "outputs": [
    {
     "name": "stdout",
     "output_type": "stream",
     "text": [
      "372\n"
     ]
    }
   ],
   "source": [
    "import json\n",
    "\n",
    "with open(os.path.join(output_path, \"dataset_all_colors.json\"), 'r') as f:\n",
    "    l = json.load(f)\n",
    "    print(len(l))"
   ]
  },
  {
   "cell_type": "code",
   "execution_count": 6,
   "id": "01f68b8f",
   "metadata": {},
   "outputs": [
    {
     "data": {
      "text/plain": [
       "{'colors': [{'color': 'rgb(46, 40, 35)', 'percentage': 30.714285714285715},\n",
       "  {'color': 'rgb(111, 86, 75)', 'percentage': 28.616541353383457},\n",
       "  {'color': 'rgb(92, 134, 148)', 'percentage': 25.23057644110276},\n",
       "  {'color': 'rgb(60, 99, 112)', 'percentage': 11.67669172932331},\n",
       "  {'color': 'rgb(180, 151, 140)', 'percentage': 3.7619047619047623}],\n",
       " 'path': '/Users/jeroen/Documents/Personal_Projects/green-fashion/artifacts/images/skirt/f4b934fc-e326-4f72-b535-53288b8b82d3.jpg',\n",
       " 'display_name': 'f4b934fc-e326-4f72-b535-53288b8b82d3.jpg',\n",
       " 'category': 'skirt'}"
      ]
     },
     "execution_count": 6,
     "metadata": {},
     "output_type": "execute_result"
    }
   ],
   "source": [
    "l[0]"
   ]
  },
  {
   "cell_type": "code",
   "execution_count": 7,
   "id": "2edcd3ea",
   "metadata": {},
   "outputs": [
    {
     "data": {
      "text/plain": [
       "{'body_section': 2,\n",
       " 'colors': [{'color': 'rgb(46, 40, 35)', 'percentage': 30.714285714285715},\n",
       "  {'color': 'rgb(111, 86, 75)', 'percentage': 28.616541353383457},\n",
       "  {'color': 'rgb(92, 134, 148)', 'percentage': 25.23057644110276},\n",
       "  {'color': 'rgb(60, 99, 112)', 'percentage': 11.67669172932331},\n",
       "  {'color': 'rgb(180, 151, 140)', 'percentage': 3.7619047619047623}],\n",
       " 'path': '/Users/jeroen/Documents/Personal_Projects/green-fashion/artifacts/images/skirt/f4b934fc-e326-4f72-b535-53288b8b82d3.jpg',\n",
       " 'display_name': 'f4b934fc-e326-4f72-b535-53288b8b82d3.jpg',\n",
       " 'category': 'skirt'}"
      ]
     },
     "execution_count": 7,
     "metadata": {},
     "output_type": "execute_result"
    }
   ],
   "source": [
    "from clothing.piece_mapper import mapper\n",
    "\n",
    "parsed = []\n",
    "for img in l:\n",
    "    x = img.copy()\n",
    "    if \"category\" in x:\n",
    "        body_section = mapper.get(x[\"category\"], \"Unknown\")\n",
    "    else:\n",
    "        body_section = \"Unknown\"\n",
    "    parsed.append({\"body_section\": body_section, **x})\n",
    "    \n",
    "parsed[0]"
   ]
  },
  {
   "cell_type": "code",
   "execution_count": 8,
   "id": "8f0efd3d",
   "metadata": {},
   "outputs": [],
   "source": [
    "# Write the dataset to a JSON file\n",
    "import json\n",
    "output_file = os.path.join(output_path, \"dataset_all_colors_parsed.json\")\n",
    "if not os.path.exists(output_path):\n",
    "    os.makedirs(output_path)\n",
    "\n",
    "with open(output_file, 'w') as f:\n",
    "    json.dump(parsed, f, indent=4)"
   ]
  },
  {
   "cell_type": "code",
   "execution_count": 9,
   "id": "aaf0cbfb",
   "metadata": {},
   "outputs": [
    {
     "data": {
      "text/html": [
       "<div>\n",
       "<style scoped>\n",
       "    .dataframe tbody tr th:only-of-type {\n",
       "        vertical-align: middle;\n",
       "    }\n",
       "\n",
       "    .dataframe tbody tr th {\n",
       "        vertical-align: top;\n",
       "    }\n",
       "\n",
       "    .dataframe thead th {\n",
       "        text-align: right;\n",
       "    }\n",
       "</style>\n",
       "<table border=\"1\" class=\"dataframe\">\n",
       "  <thead>\n",
       "    <tr style=\"text-align: right;\">\n",
       "      <th></th>\n",
       "      <th>body_section</th>\n",
       "      <th>colors</th>\n",
       "      <th>path</th>\n",
       "      <th>display_name</th>\n",
       "      <th>category</th>\n",
       "    </tr>\n",
       "  </thead>\n",
       "  <tbody>\n",
       "    <tr>\n",
       "      <th>0</th>\n",
       "      <td>2</td>\n",
       "      <td>[{'color': 'rgb(46, 40, 35)', 'percentage': 30...</td>\n",
       "      <td>/Users/jeroen/Documents/Personal_Projects/gree...</td>\n",
       "      <td>f4b934fc-e326-4f72-b535-53288b8b82d3.jpg</td>\n",
       "      <td>skirt</td>\n",
       "    </tr>\n",
       "    <tr>\n",
       "      <th>1</th>\n",
       "      <td>2</td>\n",
       "      <td>[{'color': 'rgb(51, 45, 48)', 'percentage': 35...</td>\n",
       "      <td>/Users/jeroen/Documents/Personal_Projects/gree...</td>\n",
       "      <td>491982c3-3e90-431e-99e6-b14ecea36384.jpg</td>\n",
       "      <td>skirt</td>\n",
       "    </tr>\n",
       "  </tbody>\n",
       "</table>\n",
       "</div>"
      ],
      "text/plain": [
       "   body_section                                             colors  \\\n",
       "0             2  [{'color': 'rgb(46, 40, 35)', 'percentage': 30...   \n",
       "1             2  [{'color': 'rgb(51, 45, 48)', 'percentage': 35...   \n",
       "\n",
       "                                                path  \\\n",
       "0  /Users/jeroen/Documents/Personal_Projects/gree...   \n",
       "1  /Users/jeroen/Documents/Personal_Projects/gree...   \n",
       "\n",
       "                               display_name category  \n",
       "0  f4b934fc-e326-4f72-b535-53288b8b82d3.jpg    skirt  \n",
       "1  491982c3-3e90-431e-99e6-b14ecea36384.jpg    skirt  "
      ]
     },
     "execution_count": 9,
     "metadata": {},
     "output_type": "execute_result"
    }
   ],
   "source": [
    "import pandas as pd\n",
    "clothing_df = pd.DataFrame(parsed)\n",
    "clothing_df.head(2)"
   ]
  },
  {
   "cell_type": "code",
   "execution_count": 10,
   "id": "833ae477",
   "metadata": {},
   "outputs": [
    {
     "data": {
      "text/plain": [
       "(372, 5)"
      ]
     },
     "execution_count": 10,
     "metadata": {},
     "output_type": "execute_result"
    }
   ],
   "source": [
    "clothing_df.shape"
   ]
  },
  {
   "cell_type": "code",
   "execution_count": 11,
   "id": "50344bad",
   "metadata": {},
   "outputs": [
    {
     "name": "stdout",
     "output_type": "stream",
     "text": [
      "Saved to /Users/jeroen/Documents/Personal_Projects/green-fashion/artifacts/datasets/parsed_clothing.parquet\n"
     ]
    }
   ],
   "source": [
    "file_name = \"parsed_clothing.parquet\"\n",
    "clothing_df.to_parquet(os.path.join(output_path, file_name), index=False)\n",
    "print(f\"Saved to {os.path.join(output_path, file_name)}\")"
   ]
  },
  {
   "cell_type": "code",
   "execution_count": null,
   "id": "afeb5652",
   "metadata": {},
   "outputs": [],
   "source": []
  }
 ],
 "metadata": {
  "kernelspec": {
   "display_name": "green-fashion",
   "language": "python",
   "name": "green-fashion"
  },
  "language_info": {
   "codemirror_mode": {
    "name": "ipython",
    "version": 3
   },
   "file_extension": ".py",
   "mimetype": "text/x-python",
   "name": "python",
   "nbconvert_exporter": "python",
   "pygments_lexer": "ipython3",
   "version": "3.13.2"
  }
 },
 "nbformat": 4,
 "nbformat_minor": 5
}
