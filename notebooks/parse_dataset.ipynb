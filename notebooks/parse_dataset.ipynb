{
 "cells": [
  {
   "cell_type": "code",
   "execution_count": null,
   "id": "473108ee",
   "metadata": {},
   "outputs": [],
   "source": [
    "%load_ext autoreload\n",
    "%autoreload 2"
   ]
  },
  {
   "cell_type": "code",
   "execution_count": null,
   "id": "4fe43b4c",
   "metadata": {},
   "outputs": [],
   "source": [
    "import sys \n",
    "import os"
   ]
  },
  {
   "cell_type": "code",
   "execution_count": null,
   "id": "6c8a4650",
   "metadata": {},
   "outputs": [],
   "source": [
    "output_path = os.path.join(\"..\", \"artifacts\", \"datasets\")\n",
    "output_path = os.path.abspath(output_path)\n",
    "output_path"
   ]
  },
  {
   "cell_type": "code",
   "execution_count": null,
   "id": "7f77c757",
   "metadata": {},
   "outputs": [],
   "source": [
    "import json\n",
    "\n",
    "with open(os.path.join(output_path, \"dataset_all_colors.json\"), 'r') as f:\n",
    "    l = json.load(f)\n",
    "    print(len(l))"
   ]
  },
  {
   "cell_type": "code",
   "execution_count": null,
   "id": "01f68b8f",
   "metadata": {},
   "outputs": [],
   "source": [
    "l[0]"
   ]
  },
  {
   "cell_type": "code",
   "execution_count": null,
   "id": "2edcd3ea",
   "metadata": {},
   "outputs": [],
   "source": [
    "from clothing.piece_mapper import mapper\n",
    "\n",
    "parsed = []\n",
    "for img in l:\n",
    "    x = img.copy()\n",
    "    if \"category\" in x:\n",
    "        body_section = mapper.get(x[\"category\"], \"Unknown\")\n",
    "    else:\n",
    "        body_section = \"Unknown\"\n",
    "    parsed.append({\"body_section\": body_section, **x})\n",
    "    \n",
    "parsed[0]"
   ]
  },
  {
   "cell_type": "code",
   "execution_count": null,
   "id": "8f0efd3d",
   "metadata": {},
   "outputs": [],
   "source": [
    "# Write the dataset to a JSON file\n",
    "import json\n",
    "output_file = os.path.join(output_path, \"dataset_all_colors_parsed.json\")\n",
    "if not os.path.exists(output_path):\n",
    "    os.makedirs(output_path)\n",
    "\n",
    "with open(output_file, 'w') as f:\n",
    "    json.dump(parsed, f, indent=4)"
   ]
  },
  {
   "cell_type": "code",
   "execution_count": null,
   "id": "aaf0cbfb",
   "metadata": {},
   "outputs": [],
   "source": [
    "import pandas as pd\n",
    "clothing_df = pd.DataFrame(parsed)\n",
    "clothing_df.head(2)"
   ]
  },
  {
   "cell_type": "code",
   "execution_count": null,
   "id": "833ae477",
   "metadata": {},
   "outputs": [],
   "source": [
    "clothing_df.shape"
   ]
  },
  {
   "cell_type": "code",
   "execution_count": null,
   "id": "50344bad",
   "metadata": {},
   "outputs": [],
   "source": [
    "file_name = \"parsed_clothing.parquet\"\n",
    "clothing_df.to_parquet(os.path.join(output_path, file_name), index=False)\n",
    "print(f\"Saved to {os.path.join(output_path, file_name)}\")"
   ]
  },
  {
   "cell_type": "code",
   "execution_count": null,
   "id": "afeb5652",
   "metadata": {},
   "outputs": [],
   "source": []
  }
 ],
 "metadata": {
  "kernelspec": {
   "display_name": "green-fashion",
   "language": "python",
   "name": "green-fashion"
  },
  "language_info": {
   "codemirror_mode": {
    "name": "ipython",
    "version": 3
   },
   "file_extension": ".py",
   "mimetype": "text/x-python",
   "name": "python",
   "nbconvert_exporter": "python",
   "pygments_lexer": "ipython3",
   "version": "3.12.9"
  }
 },
 "nbformat": 4,
 "nbformat_minor": 5
}
