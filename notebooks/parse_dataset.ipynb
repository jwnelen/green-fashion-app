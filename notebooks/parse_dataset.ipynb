{
 "cells": [
  {
   "cell_type": "code",
   "execution_count": 1,
   "id": "473108ee",
   "metadata": {},
   "outputs": [],
   "source": [
    "%load_ext autoreload\n",
    "%autoreload 2"
   ]
  },
  {
   "cell_type": "code",
   "execution_count": 2,
   "id": "4fe43b4c",
   "metadata": {},
   "outputs": [],
   "source": [
    "import sys \n",
    "import os"
   ]
  },
  {
   "cell_type": "code",
   "execution_count": 3,
   "id": "6c8a4650",
   "metadata": {},
   "outputs": [
    {
     "data": {
      "text/plain": [
       "'/Users/jeroen/Documents/Personal_Projects/green-fashion/artifacts/datasets'"
      ]
     },
     "execution_count": 3,
     "metadata": {},
     "output_type": "execute_result"
    }
   ],
   "source": [
    "output_path = os.path.join(\"..\", \"artifacts\", \"datasets\")\n",
    "output_path = os.path.abspath(output_path)\n",
    "output_path"
   ]
  },
  {
   "cell_type": "code",
   "execution_count": 37,
   "id": "7f77c757",
   "metadata": {},
   "outputs": [
    {
     "name": "stdout",
     "output_type": "stream",
     "text": [
      "372\n"
     ]
    }
   ],
   "source": [
    "import json\n",
    "\n",
    "with open(os.path.join(output_path, \"dataset.json\"), 'r') as f:\n",
    "    l = json.load(f)\n",
    "    print(len(l))"
   ]
  },
  {
   "cell_type": "code",
   "execution_count": 38,
   "id": "01f68b8f",
   "metadata": {},
   "outputs": [
    {
     "data": {
      "text/plain": [
       "{'colors': [{'color': [46, 40, 35],\n",
       "   'selected': True,\n",
       "   'percentage': 30.714285714285715}],\n",
       " 'path': '/Users/jeroen/Documents/Personal_Projects/green-fashion/artifacts/images/skirt/f4b934fc-e326-4f72-b535-53288b8b82d3.jpg',\n",
       " 'display_name': 'f4b934fc-e326-4f72-b535-53288b8b82d3.jpg',\n",
       " 'category': 'skirt'}"
      ]
     },
     "execution_count": 38,
     "metadata": {},
     "output_type": "execute_result"
    }
   ],
   "source": [
    "l[0]"
   ]
  },
  {
   "cell_type": "code",
   "execution_count": 39,
   "id": "2edcd3ea",
   "metadata": {},
   "outputs": [
    {
     "data": {
      "text/plain": [
       "{'body_section': 2,\n",
       " 'path': '/Users/jeroen/Documents/Personal_Projects/green-fashion/artifacts/images/skirt/f4b934fc-e326-4f72-b535-53288b8b82d3.jpg',\n",
       " 'display_name': 'f4b934fc-e326-4f72-b535-53288b8b82d3.jpg',\n",
       " 'category': 'skirt',\n",
       " 'R_shade': 46,\n",
       " 'G_shade': 40,\n",
       " 'B_shade': 35}"
      ]
     },
     "execution_count": 39,
     "metadata": {},
     "output_type": "execute_result"
    }
   ],
   "source": [
    "from clothing.piece_mapper import mapper\n",
    "\n",
    "parsed = []\n",
    "for img in l:\n",
    "    x = img.copy()\n",
    "    if \"category\" in x:\n",
    "        body_section = mapper.get(x[\"category\"], \"Unknown\")\n",
    "    else:\n",
    "        body_section = \"Unknown\"\n",
    "    if \"colors\" in x and len(x[\"colors\"]) > 0:\n",
    "        for nr, shade, in zip(x[\"colors\"][0][\"color\"], list(\"RGB\")):\n",
    "            x[shade[0] + \"_shade\"] = nr\n",
    "    else:\n",
    "        x[\"R_shade\"] = x[\"G_shade\"] = x[\"B_shade\"] = 0\n",
    "\n",
    "    x.pop(\"colors\", None)\n",
    "    parsed.append({\"body_section\": body_section, **x})\n",
    "    \n",
    "parsed[0]"
   ]
  },
  {
   "cell_type": "code",
   "execution_count": 40,
   "id": "aaf0cbfb",
   "metadata": {},
   "outputs": [
    {
     "data": {
      "text/html": [
       "<div>\n",
       "<style scoped>\n",
       "    .dataframe tbody tr th:only-of-type {\n",
       "        vertical-align: middle;\n",
       "    }\n",
       "\n",
       "    .dataframe tbody tr th {\n",
       "        vertical-align: top;\n",
       "    }\n",
       "\n",
       "    .dataframe thead th {\n",
       "        text-align: right;\n",
       "    }\n",
       "</style>\n",
       "<table border=\"1\" class=\"dataframe\">\n",
       "  <thead>\n",
       "    <tr style=\"text-align: right;\">\n",
       "      <th></th>\n",
       "      <th>body_section</th>\n",
       "      <th>path</th>\n",
       "      <th>display_name</th>\n",
       "      <th>category</th>\n",
       "      <th>R_shade</th>\n",
       "      <th>G_shade</th>\n",
       "      <th>B_shade</th>\n",
       "    </tr>\n",
       "  </thead>\n",
       "  <tbody>\n",
       "    <tr>\n",
       "      <th>0</th>\n",
       "      <td>2</td>\n",
       "      <td>/Users/jeroen/Documents/Personal_Projects/gree...</td>\n",
       "      <td>f4b934fc-e326-4f72-b535-53288b8b82d3.jpg</td>\n",
       "      <td>skirt</td>\n",
       "      <td>46</td>\n",
       "      <td>40</td>\n",
       "      <td>35</td>\n",
       "    </tr>\n",
       "    <tr>\n",
       "      <th>1</th>\n",
       "      <td>2</td>\n",
       "      <td>/Users/jeroen/Documents/Personal_Projects/gree...</td>\n",
       "      <td>491982c3-3e90-431e-99e6-b14ecea36384.jpg</td>\n",
       "      <td>skirt</td>\n",
       "      <td>51</td>\n",
       "      <td>45</td>\n",
       "      <td>48</td>\n",
       "    </tr>\n",
       "  </tbody>\n",
       "</table>\n",
       "</div>"
      ],
      "text/plain": [
       "   body_section                                               path  \\\n",
       "0             2  /Users/jeroen/Documents/Personal_Projects/gree...   \n",
       "1             2  /Users/jeroen/Documents/Personal_Projects/gree...   \n",
       "\n",
       "                               display_name category  R_shade  G_shade  \\\n",
       "0  f4b934fc-e326-4f72-b535-53288b8b82d3.jpg    skirt       46       40   \n",
       "1  491982c3-3e90-431e-99e6-b14ecea36384.jpg    skirt       51       45   \n",
       "\n",
       "   B_shade  \n",
       "0       35  \n",
       "1       48  "
      ]
     },
     "execution_count": 40,
     "metadata": {},
     "output_type": "execute_result"
    }
   ],
   "source": [
    "import pandas as pd\n",
    "clothing_df = pd.DataFrame(parsed)\n",
    "clothing_df.head(2)"
   ]
  },
  {
   "cell_type": "code",
   "execution_count": 41,
   "id": "833ae477",
   "metadata": {},
   "outputs": [
    {
     "data": {
      "text/plain": [
       "(372, 7)"
      ]
     },
     "execution_count": 41,
     "metadata": {},
     "output_type": "execute_result"
    }
   ],
   "source": [
    "clothing_df.shape"
   ]
  },
  {
   "cell_type": "code",
   "execution_count": 42,
   "id": "50344bad",
   "metadata": {},
   "outputs": [
    {
     "name": "stdout",
     "output_type": "stream",
     "text": [
      "Saved to /Users/jeroen/Documents/Personal_Projects/green-fashion/artifacts/datasets/parsed_clothing.parquet\n"
     ]
    }
   ],
   "source": [
    "file_name = \"parsed_clothing.parquet\"\n",
    "clothing_df.to_parquet(os.path.join(output_path, file_name), index=False)\n",
    "print(f\"Saved to {os.path.join(output_path, file_name)}\")"
   ]
  },
  {
   "cell_type": "code",
   "execution_count": null,
   "id": "afeb5652",
   "metadata": {},
   "outputs": [],
   "source": []
  }
 ],
 "metadata": {
  "kernelspec": {
   "display_name": "green-fashion",
   "language": "python",
   "name": "green-fashion"
  },
  "language_info": {
   "codemirror_mode": {
    "name": "ipython",
    "version": 3
   },
   "file_extension": ".py",
   "mimetype": "text/x-python",
   "name": "python",
   "nbconvert_exporter": "python",
   "pygments_lexer": "ipython3",
   "version": "3.13.2"
  }
 },
 "nbformat": 4,
 "nbformat_minor": 5
}
