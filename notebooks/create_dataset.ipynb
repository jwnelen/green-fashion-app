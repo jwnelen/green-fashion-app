{
 "cells": [
  {
   "cell_type": "code",
   "execution_count": 6,
   "id": "ce561715",
   "metadata": {},
   "outputs": [],
   "source": [
    "%load_ext autoreload\n",
    "%autoreload 2"
   ]
  },
  {
   "cell_type": "code",
   "execution_count": 1,
   "id": "dc144e68",
   "metadata": {},
   "outputs": [],
   "source": [
    "import sys \n",
    "import os"
   ]
  },
  {
   "cell_type": "code",
   "execution_count": 2,
   "id": "2e5be5c2",
   "metadata": {},
   "outputs": [
    {
     "data": {
      "text/plain": [
       "'/Users/jeroen/Documents/Personal_Projects/green-fashion/artifacts/images'"
      ]
     },
     "execution_count": 2,
     "metadata": {},
     "output_type": "execute_result"
    }
   ],
   "source": [
    "images_path = os.path.join(\"..\", \"artifacts\", \"images\")\n",
    "images_path = os.path.abspath(images_path)\n",
    "images_path"
   ]
  },
  {
   "cell_type": "code",
   "execution_count": 3,
   "id": "0aaae37d",
   "metadata": {},
   "outputs": [
    {
     "data": {
      "text/plain": [
       "'/Users/jeroen/Documents/Personal_Projects/green-fashion/artifacts/datasets'"
      ]
     },
     "execution_count": 3,
     "metadata": {},
     "output_type": "execute_result"
    }
   ],
   "source": [
    "output_path = os.path.join(\"..\", \"artifacts\", \"datasets\")\n",
    "output_path = os.path.abspath(output_path)\n",
    "output_path"
   ]
  },
  {
   "cell_type": "code",
   "execution_count": 5,
   "id": "9773541e",
   "metadata": {},
   "outputs": [],
   "source": [
    "from color_extracting.color_palette_extractor import extract_color_palette"
   ]
  },
  {
   "cell_type": "code",
   "execution_count": 10,
   "id": "17480667",
   "metadata": {},
   "outputs": [],
   "source": [
    "temp = f\"{images_path}/dress/3f844e1e-4a00-4b64-8c1d-3b847191bf11.jpg\""
   ]
  },
  {
   "cell_type": "code",
   "execution_count": 13,
   "id": "1987d562",
   "metadata": {},
   "outputs": [
    {
     "data": {
      "text/plain": [
       "[(array([90, 61, 34]), 30.8),\n",
       " (array([131, 147, 163]), 28.79),\n",
       " (array([152, 174, 207]), 15.93),\n",
       " (array([105, 116, 123]), 14.713333333333335),\n",
       " (array([114,  84,  54]), 9.766666666666666)]"
      ]
     },
     "execution_count": 13,
     "metadata": {},
     "output_type": "execute_result"
    }
   ],
   "source": [
    "extract_color_palette(temp)"
   ]
  },
  {
   "cell_type": "code",
   "execution_count": 26,
   "id": "efbc8ee1",
   "metadata": {},
   "outputs": [
    {
     "name": "stdout",
     "output_type": "stream",
     "text": [
      "/Users/jeroen/Documents/Personal_Projects/green-fashion/artifacts/images\n"
     ]
    },
    {
     "data": {
      "text/plain": [
       "['/Users/jeroen/Documents/Personal_Projects/green-fashion/artifacts/images/skirt/f4b934fc-e326-4f72-b535-53288b8b82d3.jpg',\n",
       " '/Users/jeroen/Documents/Personal_Projects/green-fashion/artifacts/images/skirt/491982c3-3e90-431e-99e6-b14ecea36384.jpg',\n",
       " '/Users/jeroen/Documents/Personal_Projects/green-fashion/artifacts/images/skirt/24963db3-649c-4f04-8da3-0375ede8e0a6.jpg',\n",
       " '/Users/jeroen/Documents/Personal_Projects/green-fashion/artifacts/images/skirt/32b99302-cec7-4dec-adfa-3d4029674209.jpg',\n",
       " '/Users/jeroen/Documents/Personal_Projects/green-fashion/artifacts/images/skirt/0558b2c5-be00-49de-b27f-8c88114ac36f.jpg']"
      ]
     },
     "execution_count": 26,
     "metadata": {},
     "output_type": "execute_result"
    }
   ],
   "source": [
    "from pathlib import Path\n",
    "\n",
    "def load_image_paths(data_folder=\"artifacts/images\"):\n",
    "    image_paths = []\n",
    "    image_extensions = {'.jpg', '.jpeg', '.png', '.webp', '.bmp', '.tiff'}\n",
    "    \n",
    "    root_folder = Path(os.path.abspath(os.path.join(\"..\")))\n",
    "    data_path = root_folder / data_folder\n",
    "    print(data_path)\n",
    "\n",
    "    if not data_path.exists():\n",
    "        return []\n",
    "    \n",
    "    for subfolder in data_path.iterdir():\n",
    "        if subfolder.is_dir():\n",
    "            for image_file in subfolder.iterdir():\n",
    "                if image_file.suffix.lower() in image_extensions:\n",
    "                    image_paths.append(str(image_file))\n",
    "    \n",
    "    return image_paths\n",
    "\n",
    "image_paths = load_image_paths()\n",
    "image_paths[:5]"
   ]
  },
  {
   "cell_type": "code",
   "execution_count": 59,
   "id": "dd7abcb0",
   "metadata": {},
   "outputs": [
    {
     "data": {
      "text/plain": [
       "[{'color': [46, 40, 35], 'selected': True, 'percentage': 30.714285714285715}]"
      ]
     },
     "execution_count": 59,
     "metadata": {},
     "output_type": "execute_result"
    }
   ],
   "source": [
    "def parse_palette(palette_list):\n",
    "    max_colors = 1\n",
    "\n",
    "    l  = []\n",
    "    for i, (color, percentage) in enumerate(palette_list):\n",
    "        selected = i < max_colors\n",
    "        if selected:\n",
    "            d = {\n",
    "                \"color\": color.tolist(),\n",
    "                \"selected\": selected,\n",
    "                \"percentage\": percentage,\n",
    "            }\n",
    "            l.append(d)\n",
    "    return l\n",
    "\n",
    "parse_palette(extract_color_palette(image_paths[0]))"
   ]
  },
  {
   "cell_type": "code",
   "execution_count": 60,
   "id": "742bd709",
   "metadata": {},
   "outputs": [
    {
     "data": {
      "text/plain": [
       "372"
      ]
     },
     "execution_count": 60,
     "metadata": {},
     "output_type": "execute_result"
    }
   ],
   "source": [
    "max = 2\n",
    "l = []\n",
    "for image_path in image_paths:\n",
    "    colors = extract_color_palette(image_path)\n",
    "    parsed = {\"colors\": parse_palette(colors)}\n",
    "    parsed[\"path\"] = image_path\n",
    "    parsed[\"display_name\"] = image_path.split(\"/\")[-1]\n",
    "    parsed[\"category\"] = image_path.split(\"/\")[-2]\n",
    "    l.append(parsed)\n",
    "\n",
    "len(l)"
   ]
  },
  {
   "cell_type": "code",
   "execution_count": 61,
   "id": "f027fcd6",
   "metadata": {},
   "outputs": [],
   "source": [
    "# Write the dataset to a JSON file\n",
    "import json\n",
    "output_file = os.path.join(output_path, \"dataset.json\")\n",
    "if not os.path.exists(output_path):\n",
    "    os.makedirs(output_path)\n",
    "\n",
    "with open(output_file, 'w') as f:\n",
    "    json.dump(l, f, indent=4)"
   ]
  },
  {
   "cell_type": "code",
   "execution_count": null,
   "id": "11cb9874",
   "metadata": {},
   "outputs": [],
   "source": []
  }
 ],
 "metadata": {
  "kernelspec": {
   "display_name": "green-fashion",
   "language": "python",
   "name": "green-fashion"
  },
  "language_info": {
   "codemirror_mode": {
    "name": "ipython",
    "version": 3
   },
   "file_extension": ".py",
   "mimetype": "text/x-python",
   "name": "python",
   "nbconvert_exporter": "python",
   "pygments_lexer": "ipython3",
   "version": "3.13.2"
  }
 },
 "nbformat": 4,
 "nbformat_minor": 5
}
