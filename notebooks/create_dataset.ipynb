{
 "cells": [
  {
   "cell_type": "code",
   "execution_count": null,
   "id": "ce561715",
   "metadata": {},
   "outputs": [],
   "source": [
    "%load_ext autoreload\n",
    "%autoreload 2"
   ]
  },
  {
   "cell_type": "code",
   "execution_count": null,
   "id": "dc144e68",
   "metadata": {},
   "outputs": [],
   "source": [
    "import sys \n",
    "import os"
   ]
  },
  {
   "cell_type": "code",
   "execution_count": null,
   "id": "2e5be5c2",
   "metadata": {},
   "outputs": [],
   "source": [
    "images_path = os.path.join(\"..\", \"artifacts\", \"images\")\n",
    "images_path = os.path.abspath(images_path)\n",
    "images_path"
   ]
  },
  {
   "cell_type": "code",
   "execution_count": null,
   "id": "0aaae37d",
   "metadata": {},
   "outputs": [],
   "source": [
    "output_path = os.path.join(\"..\", \"artifacts\", \"datasets\")\n",
    "output_path = os.path.abspath(output_path)\n",
    "output_path"
   ]
  },
  {
   "cell_type": "code",
   "execution_count": null,
   "id": "9773541e",
   "metadata": {},
   "outputs": [],
   "source": [
    "from color_extracting.color_palette_extractor import extract_color_palette"
   ]
  },
  {
   "cell_type": "code",
   "execution_count": null,
   "id": "17480667",
   "metadata": {},
   "outputs": [],
   "source": [
    "temp = f\"{images_path}/dress/3f844e1e-4a00-4b64-8c1d-3b847191bf11.jpg\""
   ]
  },
  {
   "cell_type": "code",
   "execution_count": null,
   "id": "1987d562",
   "metadata": {},
   "outputs": [],
   "source": [
    "extract_color_palette(temp)"
   ]
  },
  {
   "cell_type": "code",
   "execution_count": null,
   "id": "efbc8ee1",
   "metadata": {},
   "outputs": [],
   "source": [
    "from pathlib import Path\n",
    "\n",
    "def load_image_paths(data_folder=\"artifacts/images\"):\n",
    "    image_paths = []\n",
    "    image_extensions = {'.jpg', '.jpeg', '.png', '.webp', '.bmp', '.tiff'}\n",
    "    \n",
    "    root_folder = Path(os.path.abspath(os.path.join(\"..\")))\n",
    "    data_path = root_folder / data_folder\n",
    "    print(data_path)\n",
    "\n",
    "    if not data_path.exists():\n",
    "        return []\n",
    "    \n",
    "    for subfolder in data_path.iterdir():\n",
    "        if subfolder.is_dir():\n",
    "            for image_file in subfolder.iterdir():\n",
    "                if image_file.suffix.lower() in image_extensions:\n",
    "                    image_paths.append(str(image_file))\n",
    "    \n",
    "    return image_paths\n",
    "\n",
    "image_paths = load_image_paths()\n",
    "image_paths[:5]"
   ]
  },
  {
   "cell_type": "code",
   "execution_count": null,
   "id": "5d0223fe",
   "metadata": {},
   "outputs": [],
   "source": [
    "extract_color_palette(image_paths[0])"
   ]
  },
  {
   "cell_type": "code",
   "execution_count": null,
   "id": "dd7abcb0",
   "metadata": {},
   "outputs": [],
   "source": [
    "import numpy as np\n",
    "def parse_palette(palette_list):\n",
    "    max_colors = np.inf\n",
    "\n",
    "    l  = []\n",
    "    for i, (color, percentage) in enumerate(palette_list):\n",
    "        selected = i < max_colors\n",
    "        if selected:\n",
    "            color = [int(c) for c in color]\n",
    "            color_string = \", \".join(str(color) for color in color)\n",
    "            d = {\n",
    "                \"color\": f\"rgb({color_string})\",\n",
    "                \"percentage\": percentage,\n",
    "            }\n",
    "            l.append(d)\n",
    "    return l\n",
    "\n",
    "parse_palette(extract_color_palette(image_paths[0]))"
   ]
  },
  {
   "cell_type": "code",
   "execution_count": null,
   "id": "742bd709",
   "metadata": {},
   "outputs": [],
   "source": [
    "max = 2\n",
    "l = []\n",
    "for image_path in image_paths:\n",
    "    colors = extract_color_palette(image_path)\n",
    "    parsed = {\"colors\": parse_palette(colors)}\n",
    "    parsed[\"path\"] = image_path\n",
    "    parsed[\"display_name\"] = image_path.split(\"/\")[-1]\n",
    "    parsed[\"category\"] = image_path.split(\"/\")[-2]\n",
    "    l.append(parsed)\n",
    "\n",
    "len(l)"
   ]
  },
  {
   "cell_type": "code",
   "execution_count": null,
   "id": "31935ee2",
   "metadata": {},
   "outputs": [],
   "source": [
    "l[0]"
   ]
  },
  {
   "cell_type": "code",
   "execution_count": null,
   "id": "f027fcd6",
   "metadata": {},
   "outputs": [],
   "source": [
    "# Write the dataset to a JSON file\n",
    "import json\n",
    "output_file = os.path.join(output_path, \"dataset_all_colors.json\")\n",
    "if not os.path.exists(output_path):\n",
    "    os.makedirs(output_path)\n",
    "\n",
    "with open(output_file, 'w') as f:\n",
    "    json.dump(l, f, indent=4)"
   ]
  },
  {
   "cell_type": "code",
   "execution_count": null,
   "id": "11cb9874",
   "metadata": {},
   "outputs": [],
   "source": []
  }
 ],
 "metadata": {
  "kernelspec": {
   "display_name": "green-fashion",
   "language": "python",
   "name": "green-fashion"
  },
  "language_info": {
   "codemirror_mode": {
    "name": "ipython",
    "version": 3
   },
   "file_extension": ".py",
   "mimetype": "text/x-python",
   "name": "python",
   "nbconvert_exporter": "python",
   "pygments_lexer": "ipython3",
   "version": "3.12.9"
  }
 },
 "nbformat": 4,
 "nbformat_minor": 5
}
