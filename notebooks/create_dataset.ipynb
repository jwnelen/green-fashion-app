{
 "cells": [
  {
   "cell_type": "code",
   "execution_count": 6,
   "id": "ce561715",
   "metadata": {},
   "outputs": [],
   "source": [
    "%load_ext autoreload\n",
    "%autoreload 2"
   ]
  },
  {
   "cell_type": "code",
   "execution_count": 1,
   "id": "dc144e68",
   "metadata": {},
   "outputs": [],
   "source": [
    "import sys \n",
    "import os"
   ]
  },
  {
   "cell_type": "code",
   "execution_count": 2,
   "id": "2e5be5c2",
   "metadata": {},
   "outputs": [
    {
     "data": {
      "text/plain": [
       "'/Users/jeroen/Documents/Personal_Projects/green-fashion/artifacts/images'"
      ]
     },
     "execution_count": 2,
     "metadata": {},
     "output_type": "execute_result"
    }
   ],
   "source": [
    "images_path = os.path.join(\"..\", \"artifacts\", \"images\")\n",
    "images_path = os.path.abspath(images_path)\n",
    "images_path"
   ]
  },
  {
   "cell_type": "code",
   "execution_count": 3,
   "id": "0aaae37d",
   "metadata": {},
   "outputs": [
    {
     "data": {
      "text/plain": [
       "'/Users/jeroen/Documents/Personal_Projects/green-fashion/artifacts/datasets'"
      ]
     },
     "execution_count": 3,
     "metadata": {},
     "output_type": "execute_result"
    }
   ],
   "source": [
    "output_path = os.path.join(\"..\", \"artifacts\", \"datasets\")\n",
    "output_path = os.path.abspath(output_path)\n",
    "output_path"
   ]
  },
  {
   "cell_type": "code",
   "execution_count": 5,
   "id": "9773541e",
   "metadata": {},
   "outputs": [],
   "source": [
    "from color_extracting.color_palette_extractor import extract_color_palette"
   ]
  },
  {
   "cell_type": "code",
   "execution_count": 10,
   "id": "17480667",
   "metadata": {},
   "outputs": [],
   "source": [
    "temp = f\"{images_path}/dress/3f844e1e-4a00-4b64-8c1d-3b847191bf11.jpg\""
   ]
  },
  {
   "cell_type": "code",
   "execution_count": null,
   "id": "efbc8ee1",
   "metadata": {},
   "outputs": [],
   "source": []
  }
 ],
 "metadata": {
  "kernelspec": {
   "display_name": "green-fashion",
   "language": "python",
   "name": "green-fashion"
  },
  "language_info": {
   "codemirror_mode": {
    "name": "ipython",
    "version": 3
   },
   "file_extension": ".py",
   "mimetype": "text/x-python",
   "name": "python",
   "nbconvert_exporter": "python",
   "pygments_lexer": "ipython3",
   "version": "3.13.2"
  }
 },
 "nbformat": 4,
 "nbformat_minor": 5
}
