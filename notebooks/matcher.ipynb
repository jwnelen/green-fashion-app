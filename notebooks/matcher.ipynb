{
 "cells": [
  {
   "cell_type": "code",
   "execution_count": null,
   "id": "5317f191",
   "metadata": {},
   "outputs": [],
   "source": [
    "%load_ext autoreload\n",
    "%autoreload 2"
   ]
  },
  {
   "cell_type": "code",
   "execution_count": null,
   "id": "aed45137",
   "metadata": {},
   "outputs": [],
   "source": [
    "import sys \n",
    "import os\n",
    "import pandas as pd\n",
    "import json"
   ]
  },
  {
   "cell_type": "code",
   "execution_count": null,
   "id": "345c1960",
   "metadata": {},
   "outputs": [],
   "source": [
    "output_path = os.path.join(\"..\", \"artifacts\", \"datasets\")\n",
    "output_path = os.path.abspath(output_path)\n",
    "output_path"
   ]
  },
  {
   "cell_type": "code",
   "execution_count": null,
   "id": "06cff0d2",
   "metadata": {},
   "outputs": [],
   "source": [
    "with open(os.path.join(output_path, \"dataset_all_colors_parsed.json\"), 'r') as f:\n",
    "    l = json.load(f)\n",
    "    print(len(l))"
   ]
  },
  {
   "cell_type": "code",
   "execution_count": null,
   "id": "92af12ef",
   "metadata": {},
   "outputs": [],
   "source": [
    "l[0][\"colors\"]"
   ]
  },
  {
   "cell_type": "code",
   "execution_count": null,
   "id": "405e3e7b",
   "metadata": {},
   "outputs": [],
   "source": [
    "from color_extracting.color_palette_extractor import plot_palette\n",
    "single_palette = l[0][\"colors\"]\n",
    "# print(single_palette)\n",
    "plot_palette(single_palette)"
   ]
  },
  {
   "cell_type": "code",
   "execution_count": null,
   "id": "a084e7d9",
   "metadata": {},
   "outputs": [],
   "source": [
    "for i, a in enumerate(single_palette):\n",
    "    print(a[\"color\"])"
   ]
  },
  {
   "cell_type": "code",
   "execution_count": null,
   "id": "3cf3f8b1",
   "metadata": {},
   "outputs": [],
   "source": []
  }
 ],
 "metadata": {
  "kernelspec": {
   "display_name": "green-fashion",
   "language": "python",
   "name": "green-fashion"
  },
  "language_info": {
   "codemirror_mode": {
    "name": "ipython",
    "version": 3
   },
   "file_extension": ".py",
   "mimetype": "text/x-python",
   "name": "python",
   "nbconvert_exporter": "python",
   "pygments_lexer": "ipython3",
   "version": "3.12.9"
  }
 },
 "nbformat": 4,
 "nbformat_minor": 5
}
