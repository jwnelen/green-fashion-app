{
 "cells": [
  {
   "cell_type": "code",
   "execution_count": 1,
   "id": "5317f191",
   "metadata": {},
   "outputs": [],
   "source": [
    "%load_ext autoreload\n",
    "%autoreload 2"
   ]
  },
  {
   "cell_type": "code",
   "execution_count": 4,
   "id": "aed45137",
   "metadata": {},
   "outputs": [],
   "source": [
    "import sys \n",
    "import os\n",
    "import pandas as pd"
   ]
  },
  {
   "cell_type": "code",
   "execution_count": 5,
   "id": "345c1960",
   "metadata": {},
   "outputs": [
    {
     "data": {
      "text/plain": [
       "'/Users/jeroen/Documents/Personal_Projects/green-fashion/artifacts/datasets'"
      ]
     },
     "execution_count": 5,
     "metadata": {},
     "output_type": "execute_result"
    }
   ],
   "source": [
    "output_path = os.path.join(\"..\", \"artifacts\", \"datasets\")\n",
    "output_path = os.path.abspath(output_path)\n",
    "output_path"
   ]
  },
  {
   "cell_type": "code",
   "execution_count": 7,
   "id": "816b11bb",
   "metadata": {},
   "outputs": [
    {
     "data": {
      "text/html": [
       "<div>\n",
       "<style scoped>\n",
       "    .dataframe tbody tr th:only-of-type {\n",
       "        vertical-align: middle;\n",
       "    }\n",
       "\n",
       "    .dataframe tbody tr th {\n",
       "        vertical-align: top;\n",
       "    }\n",
       "\n",
       "    .dataframe thead th {\n",
       "        text-align: right;\n",
       "    }\n",
       "</style>\n",
       "<table border=\"1\" class=\"dataframe\">\n",
       "  <thead>\n",
       "    <tr style=\"text-align: right;\">\n",
       "      <th></th>\n",
       "      <th>body_section</th>\n",
       "      <th>path</th>\n",
       "      <th>display_name</th>\n",
       "      <th>category</th>\n",
       "      <th>R_shade</th>\n",
       "      <th>G_shade</th>\n",
       "      <th>B_shade</th>\n",
       "    </tr>\n",
       "  </thead>\n",
       "  <tbody>\n",
       "    <tr>\n",
       "      <th>0</th>\n",
       "      <td>2</td>\n",
       "      <td>/Users/jeroen/Documents/Personal_Projects/gree...</td>\n",
       "      <td>f4b934fc-e326-4f72-b535-53288b8b82d3.jpg</td>\n",
       "      <td>skirt</td>\n",
       "      <td>46</td>\n",
       "      <td>40</td>\n",
       "      <td>35</td>\n",
       "    </tr>\n",
       "    <tr>\n",
       "      <th>1</th>\n",
       "      <td>2</td>\n",
       "      <td>/Users/jeroen/Documents/Personal_Projects/gree...</td>\n",
       "      <td>491982c3-3e90-431e-99e6-b14ecea36384.jpg</td>\n",
       "      <td>skirt</td>\n",
       "      <td>51</td>\n",
       "      <td>45</td>\n",
       "      <td>48</td>\n",
       "    </tr>\n",
       "  </tbody>\n",
       "</table>\n",
       "</div>"
      ],
      "text/plain": [
       "   body_section                                               path  \\\n",
       "0             2  /Users/jeroen/Documents/Personal_Projects/gree...   \n",
       "1             2  /Users/jeroen/Documents/Personal_Projects/gree...   \n",
       "\n",
       "                               display_name category  R_shade  G_shade  \\\n",
       "0  f4b934fc-e326-4f72-b535-53288b8b82d3.jpg    skirt       46       40   \n",
       "1  491982c3-3e90-431e-99e6-b14ecea36384.jpg    skirt       51       45   \n",
       "\n",
       "   B_shade  \n",
       "0       35  \n",
       "1       48  "
      ]
     },
     "execution_count": 7,
     "metadata": {},
     "output_type": "execute_result"
    }
   ],
   "source": [
    "clothes_df_path = os.path.join(output_path, \"parsed_clothing.parquet\")\n",
    "clothing_df = pd.read_parquet(clothes_df_path)\n",
    "clothing_df.head(2)"
   ]
  },
  {
   "cell_type": "code",
   "execution_count": null,
   "id": "4b2af6fa",
   "metadata": {},
   "outputs": [],
   "source": []
  }
 ],
 "metadata": {
  "kernelspec": {
   "display_name": "green-fashion",
   "language": "python",
   "name": "green-fashion"
  },
  "language_info": {
   "codemirror_mode": {
    "name": "ipython",
    "version": 3
   },
   "file_extension": ".py",
   "mimetype": "text/x-python",
   "name": "python",
   "nbconvert_exporter": "python",
   "pygments_lexer": "ipython3",
   "version": "3.13.2"
  }
 },
 "nbformat": 4,
 "nbformat_minor": 5
}
