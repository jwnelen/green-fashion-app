{
 "cells": [
  {
   "cell_type": "code",
   "execution_count": 18,
   "id": "5317f191",
   "metadata": {},
   "outputs": [
    {
     "name": "stdout",
     "output_type": "stream",
     "text": [
      "The autoreload extension is already loaded. To reload it, use:\n",
      "  %reload_ext autoreload\n"
     ]
    }
   ],
   "source": [
    "%load_ext autoreload\n",
    "%autoreload 2"
   ]
  },
  {
   "cell_type": "code",
   "execution_count": 19,
   "id": "aed45137",
   "metadata": {},
   "outputs": [],
   "source": [
    "import sys \n",
    "import os\n",
    "import pandas as pd\n",
    "import json"
   ]
  },
  {
   "cell_type": "code",
   "execution_count": 20,
   "id": "345c1960",
   "metadata": {},
   "outputs": [
    {
     "data": {
      "text/plain": [
       "'/Users/jeroen/Documents/Personal_Projects/green-fashion/artifacts/datasets'"
      ]
     },
     "execution_count": 20,
     "metadata": {},
     "output_type": "execute_result"
    }
   ],
   "source": [
    "output_path = os.path.join(\"..\", \"artifacts\", \"datasets\")\n",
    "output_path = os.path.abspath(output_path)\n",
    "output_path"
   ]
  },
  {
   "cell_type": "code",
   "execution_count": 21,
   "id": "06cff0d2",
   "metadata": {},
   "outputs": [
    {
     "name": "stdout",
     "output_type": "stream",
     "text": [
      "372\n"
     ]
    }
   ],
   "source": [
    "with open(os.path.join(output_path, \"dataset_all_colors_parsed.json\"), 'r') as f:\n",
    "    l = json.load(f)\n",
    "    print(len(l))"
   ]
  },
  {
   "cell_type": "code",
   "execution_count": 29,
   "id": "92af12ef",
   "metadata": {},
   "outputs": [
    {
     "data": {
      "text/plain": [
       "[{'color': 'rgb(46, 40, 35)', 'percentage': 30.714285714285715},\n",
       " {'color': 'rgb(111, 86, 75)', 'percentage': 28.616541353383457},\n",
       " {'color': 'rgb(92, 134, 148)', 'percentage': 25.23057644110276},\n",
       " {'color': 'rgb(60, 99, 112)', 'percentage': 11.67669172932331},\n",
       " {'color': 'rgb(180, 151, 140)', 'percentage': 3.7619047619047623}]"
      ]
     },
     "execution_count": 29,
     "metadata": {},
     "output_type": "execute_result"
    }
   ],
   "source": [
    "l[0][\"colors\"]"
   ]
  },
  {
   "cell_type": "code",
   "execution_count": 42,
   "id": "405e3e7b",
   "metadata": {},
   "outputs": [
    {
     "name": "stdout",
     "output_type": "stream",
     "text": [
      "Color 0: [46 40 35], Percentage: 30.714285714285715\n",
      "Color 1: [111  86  75], Percentage: 28.616541353383457\n",
      "Color 2: [ 92 134 148], Percentage: 25.23057644110276\n",
      "Color 3: [ 60  99 112], Percentage: 11.67669172932331\n",
      "Color 4: [180 151 140], Percentage: 3.7619047619047623\n"
     ]
    },
    {
     "data": {
      "image/png": "[encoded data removed]",
      "text/plain": [
       "<Figure size 640x480 with 1 Axes>"
      ]
     },
     "execution_count": 42,
     "metadata": {},
     "output_type": "execute_result"
    },
    {
     "data": {
      "image/png": "[encoded data removed]",
      "text/plain": [
       "<Figure size 640x480 with 1 Axes>"
      ]
     },
     "metadata": {},
     "output_type": "display_data"
    }
   ],
   "source": [
    "from color_extracting.color_palette_extractor import plot_palette\n",
    "single_palette = l[0][\"colors\"]\n",
    "# print(single_palette)\n",
    "plot_palette(single_palette)"
   ]
  },
  {
   "cell_type": "code",
   "execution_count": 36,
   "id": "a084e7d9",
   "metadata": {},
   "outputs": [
    {
     "name": "stdout",
     "output_type": "stream",
     "text": [
      "rgb(46, 40, 35)\n",
      "rgb(111, 86, 75)\n",
      "rgb(92, 134, 148)\n",
      "rgb(60, 99, 112)\n",
      "rgb(180, 151, 140)\n"
     ]
    }
   ],
   "source": [
    "for i, a in enumerate(single_palette):\n",
    "    print(a[\"color\"])"
   ]
  },
  {
   "cell_type": "code",
   "execution_count": null,
   "id": "3cf3f8b1",
   "metadata": {},
   "outputs": [],
   "source": []
  }
 ],
 "metadata": {
  "kernelspec": {
   "display_name": "green-fashion",
   "language": "python",
   "name": "green-fashion"
  },
  "language_info": {
   "codemirror_mode": {
    "name": "ipython",
    "version": 3
   },
   "file_extension": ".py",
   "mimetype": "text/x-python",
   "name": "python",
   "nbconvert_exporter": "python",
   "pygments_lexer": "ipython3",
   "version": "3.13.2"
  }
 },
 "nbformat": 4,
 "nbformat_minor": 5
}
