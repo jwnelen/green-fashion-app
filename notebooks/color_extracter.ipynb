{
 "cells": [
  {
   "cell_type": "code",
   "execution_count": null,
   "id": "ffb2c02d",
   "metadata": {},
   "outputs": [],
   "source": [
    "import os"
   ]
  },
  {
   "cell_type": "code",
   "execution_count": null,
   "id": "30712acd",
   "metadata": {},
   "outputs": [],
   "source": [
    "!python -m ensurepip --default-pip && python -m pip install pillow scikit-learn matplotlib numpy jupyter rembg onnxruntime -q"
   ]
  },
  {
   "cell_type": "code",
   "execution_count": null,
   "id": "0f08366b",
   "metadata": {},
   "outputs": [],
   "source": [
    "# data_path = os.path.abspath(os.path.join(\"artifacts\", \"data\"))\n",
    "data_path = os.path.join(\"..\", \"artifacts\", \"images\")\n",
    "data_path"
   ]
  },
  {
   "cell_type": "code",
   "execution_count": null,
   "id": "aab7a751",
   "metadata": {},
   "outputs": [],
   "source": [
    "img = (\"dress\", \"3f844e1e-4a00-4b64-8c1d-3b847191bf11.jpg\")\n",
    "image_path = os.path.abspath(os.path.join(data_path, *img))"
   ]
  },
  {
   "cell_type": "code",
   "execution_count": null,
   "id": "349d55f8",
   "metadata": {},
   "outputs": [],
   "source": [
    "from PIL import Image\n",
    "image = Image.open(image_path)\n",
    "image "
   ]
  },
  {
   "cell_type": "code",
   "execution_count": null,
   "id": "7d33cfd5",
   "metadata": {},
   "outputs": [],
   "source": [
    "import matplotlib.pyplot as plt\n",
    "import numpy as np\n",
    "\n",
    "def display_palette(palette):\n",
    "    fig, ax1  = plt.subplots(1, 1) \n",
    "    \n",
    "    palette_height = 1\n",
    "    palette_width = 10\n",
    "    palette_img = np.zeros((palette_height, palette_width, 3), dtype=np.uint8)\n",
    "    \n",
    "    x_start = 0\n",
    "    for i, (color, percentage) in enumerate(palette):\n",
    "        if i == len(palette) - 1:\n",
    "            section_width = palette_width - x_start\n",
    "        else:\n",
    "            section_width = int(palette_width * percentage / 100)\n",
    "        \n",
    "        palette_img[:, x_start:x_start + section_width] = color\n",
    "        x_start += section_width\n",
    "    \n",
    "    ax1.imshow(palette_img)\n",
    "    ax1.set_title('Color Palette')\n",
    "    ax1.axis('off')\n",
    "    plt.show()"
   ]
  },
  {
   "cell_type": "code",
   "execution_count": null,
   "id": "6a6e7049",
   "metadata": {},
   "outputs": [],
   "source": [
    "from sklearn.cluster import KMeans\n",
    "import numpy as np\n",
    "from collections import Counter\n",
    "\n",
    "def extract_color_palette_from_image(image, n_colors=5, resize_width=150):\n",
    "    if image.mode != 'RGB':\n",
    "        image = image.convert('RGB')\n",
    "    \n",
    "    original_width, original_height = image.size\n",
    "    aspect_ratio = original_height / original_width\n",
    "    resize_height = int(resize_width * aspect_ratio)\n",
    "    image = image.resize((resize_width, resize_height), Image.Resampling.LANCZOS)\n",
    "    display(image)\n",
    "    \n",
    "    pixels = np.array(image).reshape(-1, 3)\n",
    "    \n",
    "    kmeans = KMeans(n_clusters=n_colors, random_state=42, n_init=10)\n",
    "    kmeans.fit(pixels)\n",
    "    \n",
    "    colors = kmeans.cluster_centers_.astype(int)\n",
    "    labels = kmeans.labels_\n",
    "    \n",
    "    color_counts = Counter(labels)\n",
    "    color_percentages = [(count / len(labels)) * 100 for count in color_counts.values()]\n",
    "    \n",
    "    palette = list(zip(colors, color_percentages))\n",
    "    palette.sort(key=lambda x: x[1], reverse=True)\n",
    "    \n",
    "    return palette\n",
    "\n",
    "img = (\"dress\", \"3f844e1e-4a00-4b64-8c1d-3b847191bf11.jpg\")\n",
    "image_path = os.path.abspath(os.path.join(data_path, *img))\n",
    "image = Image.open(image_path)\n",
    "display_palette(extract_color_palette_from_image(image, n_colors=5, resize_width=150))"
   ]
  },
  {
   "cell_type": "code",
   "execution_count": null,
   "id": "717696a5",
   "metadata": {},
   "outputs": [],
   "source": [
    "img = (\"shoes\", \"5d147b66-5238-4ed0-9c6f-c68286fea4ad.jpg\")\n",
    "image_path = os.path.abspath(os.path.join(data_path, *img))\n",
    "image = Image.open(image_path)\n",
    "display_palette(extract_color_palette_from_image(image, n_colors=5, resize_width=150))"
   ]
  },
  {
   "cell_type": "code",
   "execution_count": null,
   "id": "c076606f",
   "metadata": {},
   "outputs": [],
   "source": [
    "from rembg import remove\n",
    "from PIL import Image\n",
    "\n",
    "img = (\"dress\", \"3f844e1e-4a00-4b64-8c1d-3b847191bf11.jpg\")\n",
    "image_path = os.path.abspath(os.path.join(data_path, *img))\n",
    "image = Image.open(image_path)\n",
    "image_removed_background = remove(image)\n",
    "display(image_removed_background)"
   ]
  },
  {
   "cell_type": "code",
   "execution_count": null,
   "id": "e25d6599",
   "metadata": {},
   "outputs": [],
   "source": [
    "img = (\"shoes\", \"5d147b66-5238-4ed0-9c6f-c68286fea4ad.jpg\")\n",
    "image_path = os.path.abspath(os.path.join(data_path, *img))\n",
    "image = Image.open(image_path)\n",
    "image_removed_background = remove(image)\n",
    "display(image_removed_background)"
   ]
  },
  {
   "cell_type": "markdown",
   "id": "06f86a8a",
   "metadata": {},
   "source": [
    "### New clustering method for flexible amount of clusters"
   ]
  },
  {
   "cell_type": "code",
   "execution_count": null,
   "id": "6e21ea15",
   "metadata": {},
   "outputs": [],
   "source": [
    "from sklearn.cluster import AgglomerativeClustering\n",
    "import numpy as np\n",
    "from sklearn.preprocessing import StandardScaler\n",
    "from collections import Counter\n",
    "\n",
    "def new_extract_method(image, resize_width=150):\n",
    "    if image.mode != 'RGB':\n",
    "            image = image.convert('RGB')\n",
    "\n",
    "    original_width, original_height = image.size\n",
    "    aspect_ratio = original_height / original_width\n",
    "    resize_height = int(resize_width * aspect_ratio)\n",
    "    image = image.resize((resize_width, resize_height), Image.Resampling.LANCZOS)\n",
    "    display(image)\n",
    "\n",
    "    pixels = np.array(image).reshape(-1, 3)\n",
    "\n",
    "    scaler = StandardScaler()\n",
    "    pixels_scaled = scaler.fit_transform(pixels)\n",
    "\n",
    "    clustering = AgglomerativeClustering(\n",
    "        n_clusters=None,\n",
    "        distance_threshold=50,\n",
    "        linkage='ward'\n",
    "    )\n",
    "    labels = clustering.fit_predict(pixels_scaled)\n",
    "\n",
    "    unique_labels = np.unique(labels)\n",
    "    colors = np.array([pixels[labels == label].mean(axis=0) for label in unique_labels]).astype(int)\n",
    "\n",
    "\n",
    "    color_counts = Counter(labels)\n",
    "    color_percentages = [(count / len(labels)) * 100 for count in color_counts.values()]\n",
    "\n",
    "    palette = list(zip(colors, color_percentages))\n",
    "    palette.sort(key=lambda x: x[1], reverse=True)\n",
    "    return palette\n",
    "\n",
    "img = (\"dress\", \"3f844e1e-4a00-4b64-8c1d-3b847191bf11.jpg\")\n",
    "image_path = os.path.abspath(os.path.join(data_path, *img))\n",
    "image = Image.open(image_path)\n",
    "display_palette(new_extract_method(image))"
   ]
  },
  {
   "cell_type": "code",
   "execution_count": null,
   "id": "3a0d0b73",
   "metadata": {},
   "outputs": [],
   "source": [
    "img = (\"shoes\", \"5d147b66-5238-4ed0-9c6f-c68286fea4ad.jpg\")\n",
    "image_path = os.path.abspath(os.path.join(data_path, *img))\n",
    "image = Image.open(image_path)\n",
    "display_palette(new_extract_method(image))"
   ]
  },
  {
   "cell_type": "code",
   "execution_count": null,
   "id": "a1164ef8",
   "metadata": {},
   "outputs": [],
   "source": [
    "img = (\"dress\", \"3f844e1e-4a00-4b64-8c1d-3b847191bf11.jpg\")\n",
    "image_path = os.path.abspath(os.path.join(data_path, *img))\n",
    "image = Image.open(image_path)\n",
    "image_removed_background = remove(image, bgcolor=(255, 0, 0))\n",
    "display_palette(new_extract_method(image_removed_background))"
   ]
  },
  {
   "cell_type": "code",
   "execution_count": null,
   "id": "53c1ad70",
   "metadata": {},
   "outputs": [],
   "source": [
    "img = (\"shoes\", \"5d147b66-5238-4ed0-9c6f-c68286fea4ad.jpg\")\n",
    "image_path = os.path.abspath(os.path.join(data_path, *img))\n",
    "image = Image.open(image_path)\n",
    "image_removed_background = remove(image)\n",
    "display_palette(new_extract_method(image_removed_background))"
   ]
  },
  {
   "cell_type": "code",
   "execution_count": null,
   "id": "e9bec24b",
   "metadata": {},
   "outputs": [],
   "source": [
    "def new_extract_method_including_bg_removal(image, resize_width=150, alpha_threshold=128):\n",
    "    image = remove(image)\n",
    "\n",
    "    if image.mode != 'RGBA':\n",
    "        image = image.convert('RGBA')\n",
    "\n",
    "    original_width, original_height = image.size\n",
    "    aspect_ratio = original_height / original_width\n",
    "    resize_height = int(resize_width * aspect_ratio)\n",
    "    image = image.resize((resize_width, resize_height), Image.Resampling.LANCZOS)\n",
    "    display(image)\n",
    "\n",
    "    pixels_rgba = np.array(image).reshape(-1, 4)\n",
    "    \n",
    "    # Getting the correct htreshold\n",
    "    foreground_mask = pixels_rgba[:, 3] > alpha_threshold\n",
    "\n",
    "    if not np.any(foreground_mask):\n",
    "        print(\"Warning: No foreground pixels found. Lowering alpha threshold.\")\n",
    "        foreground_mask = pixels_rgba[:, 3] > 64  # Fallback threshold\n",
    "        \n",
    "    if not np.any(foreground_mask):\n",
    "        print(\"Warning: Still no foreground pixels found. Using all non-zero alpha pixels.\")\n",
    "        foreground_mask = pixels_rgba[:, 3] > 0\n",
    "\n",
    "    pixels = pixels_rgba[foreground_mask][:, :3]\n",
    "\n",
    "    scaler = StandardScaler()\n",
    "    pixels_scaled = scaler.fit_transform(pixels)\n",
    "\n",
    "    clustering = AgglomerativeClustering(\n",
    "        n_clusters=None,\n",
    "        distance_threshold=50,\n",
    "        linkage='ward'\n",
    "    )\n",
    "    labels = clustering.fit_predict(pixels_scaled)\n",
    "\n",
    "    unique_labels = np.unique(labels)\n",
    "    colors = np.array([pixels[labels == label].mean(axis=0) for label in unique_labels]).astype(int)\n",
    "\n",
    "    color_counts = Counter(labels)\n",
    "    color_percentages = [(count / len(labels)) * 100 for count in color_counts.values()]\n",
    "\n",
    "    palette = list(zip(colors, color_percentages))\n",
    "    palette.sort(key=lambda x: x[1], reverse=True)\n",
    "    return palette\n",
    "\n",
    "img = (\"hat\", \"ff62e59f-c949-4f8e-8fca-798ab3e174c5.jpg\")\n",
    "image_path = os.path.abspath(os.path.join(data_path, *img))\n",
    "image = Image.open(image_path)\n",
    "display_palette(new_extract_method_including_bg_removal(image))"
   ]
  },
  {
   "cell_type": "markdown",
   "id": "096dd64a",
   "metadata": {},
   "source": [
    "### Check on all images"
   ]
  },
  {
   "cell_type": "code",
   "execution_count": null,
   "id": "ac6d7028",
   "metadata": {},
   "outputs": [],
   "source": [
    "import glob\n",
    "\n",
    "category_name = \"pants\"\n",
    "folder_path = os.path.abspath(os.path.join(data_path, category_name))\n",
    "file_names = glob.glob(os.path.join(folder_path, \"*.jpg\"))\n",
    "                                           \n",
    "start_idx = 0\n",
    "end_idx = 10\n",
    "\n",
    "for file_name in file_names[start_idx: end_idx]:\n",
    "    image = Image.open(file_name)\n",
    "    display_palette(new_extract_method_including_bg_removal(image))"
   ]
  },
  {
   "cell_type": "code",
   "execution_count": null,
   "id": "fd4da6c4",
   "metadata": {},
   "outputs": [],
   "source": [
    "# def get_color_palette_info(image_path, n_colors=5):\n",
    "#     palette = extract_color_palette(image_path, n_colors)\n",
    "    \n",
    "#     result = []\n",
    "#     for i, (color, percentage) in enumerate(palette):\n",
    "#         color_info = {\n",
    "#             'rank': i + 1,\n",
    "#             'rgb': tuple(color),\n",
    "#             'hex': rgb_to_hex(color),\n",
    "#             'percentage': round(percentage, 1)\n",
    "#         }\n",
    "#         result.append(color_info)\n",
    "    \n",
    "#     return result\n",
    "\n",
    "# color_palette_info = get_color_palette_info(image_path, n_colors=3)\n",
    "# color_palette_info"
   ]
  },
  {
   "cell_type": "code",
   "execution_count": null,
   "id": "de6ffd07",
   "metadata": {},
   "outputs": [],
   "source": [
    "n_colors_to_extract = 4\n",
    "max_images = 2\n",
    "\n",
    "category = \"shirt\"\n",
    "\n",
    "jpg_files = get_jpg_files(f'{data_path}/{category}')\n",
    "print(f\"Found {len(jpg_files)} JPG files in the folder.\")\n",
    "\n",
    "max_display = min(max_images, len(jpg_files))\n",
    "\n",
    "for single_img in jpg_files[:max_display]:\n",
    "    single_img_path = os.path.join(data_path, category, single_img)\n",
    "    palette = extract_color_palette(single_img_path, n_colors=n_colors_to_extract)\n",
    "    display_palette(palette)"
   ]
  },
  {
   "cell_type": "code",
   "execution_count": null,
   "id": "2c172a14",
   "metadata": {},
   "outputs": [],
   "source": [
    "n_colors_to_extract = 4\n",
    "max_images = 2\n",
    "\n",
    "category = \"longsleeve\"\n",
    "\n",
    "jpg_files = get_jpg_files(f'{data_path}/{category}')\n",
    "print(f\"Found {len(jpg_files)} JPG files in the folder.\")\n",
    "\n",
    "max_display = min(max_images, len(jpg_files))\n",
    "\n",
    "for single_img in jpg_files[:max_display]:\n",
    "    single_img_path = os.path.join(data_path, category, single_img)\n",
    "    palette = extract_color_palette(single_img_path, n_colors=n_colors_to_extract)\n",
    "    display_palette(palette)"
   ]
  },
  {
   "cell_type": "code",
   "execution_count": null,
   "id": "add99f3b",
   "metadata": {},
   "outputs": [],
   "source": [
    "n_colors_to_extract = 4\n",
    "max_images = 3\n",
    "\n",
    "category = \"t-shirt\"\n",
    "\n",
    "jpg_files = get_jpg_files(f'{data_path}/{category}')\n",
    "print(f\"Found {len(jpg_files)} JPG files in the folder.\")\n",
    "\n",
    "max_display = min(max_images, len(jpg_files))\n",
    "\n",
    "for single_img in jpg_files[:max_display]:\n",
    "    single_img_path = os.path.join(data_path, category, single_img)\n",
    "    palette = extract_color_palette(single_img_path, n_colors=n_colors_to_extract)\n",
    "    display_palette(palette)"
   ]
  },
  {
   "cell_type": "code",
   "execution_count": null,
   "id": "44718dd1",
   "metadata": {},
   "outputs": [],
   "source": []
  }
 ],
 "metadata": {
  "kernelspec": {
   "display_name": "green-fashion",
   "language": "python",
   "name": "green-fashion"
  },
  "language_info": {
   "codemirror_mode": {
    "name": "ipython",
    "version": 3
   },
   "file_extension": ".py",
   "mimetype": "text/x-python",
   "name": "python",
   "nbconvert_exporter": "python",
   "pygments_lexer": "ipython3",
   "version": "3.12.9"
  }
 },
 "nbformat": 4,
 "nbformat_minor": 5
}
